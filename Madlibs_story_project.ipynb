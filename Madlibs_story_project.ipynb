{
  "nbformat": 4,
  "nbformat_minor": 0,
  "metadata": {
    "colab": {
      "provenance": [],
      "authorship_tag": "ABX9TyN/NOyEflagEe/dQrqncTli",
      "include_colab_link": true
    },
    "kernelspec": {
      "name": "python3",
      "display_name": "Python 3"
    },
    "language_info": {
      "name": "python"
    }
  },
  "cells": [
    {
      "cell_type": "markdown",
      "metadata": {
        "id": "view-in-github",
        "colab_type": "text"
      },
      "source": [
        "<a href=\"https://colab.research.google.com/github/Saba-Arif5/Madlibs-story/blob/main/Madlibs_story_project.ipynb\" target=\"_parent\"><img src=\"https://colab.research.google.com/assets/colab-badge.svg\" alt=\"Open In Colab\"/></a>"
      ]
    },
    {
      "cell_type": "code",
      "execution_count": null,
      "metadata": {
        "id": "0mJHpAleER3q"
      },
      "outputs": [],
      "source": [
        "from google.colab import drive\n",
        "drive.mount('/content/drive')\n",
        "\n",
        "with open('/content/drive/MyDrive/story-template.txt',\"r\") as f:\n",
        "  story_template = f.read()\n",
        "\n",
        "words = set()    #to store the words and set() data will only contain unique elements\n",
        "start_of_word = -1 #to keep track that the word has been found\n",
        "target_start = \"<\"\n",
        "target_end = \">\"\n",
        "\n",
        "for i, char in enumerate(story) : #gives index as well as char itself\n",
        "    if char == target_start:\n",
        "        start_of_word = i\n",
        "\n",
        "    if char == target_end and start_of_word != -1:\n",
        "        word = story[start_of_word: i + 1]\n",
        "        words.add(word)\n",
        "        start_of_word = -1 #to again look for \"<\" for other words\n",
        "\n",
        "# a dictionary for the words that has been extracted from the story\n",
        "answers = {}\n",
        "for word in words :\n",
        "    answer = input(\"please enter a word for\" + word + \": \")\n",
        "    answers[word]= answer\n",
        "\n",
        "for word in words :\n",
        "    story = story.replace(word, answers[word]) #string.replace replaces all occurences of the word to be replaced returning a new string with replacements\n",
        "print(story)"
      ]
    }
  ]
}